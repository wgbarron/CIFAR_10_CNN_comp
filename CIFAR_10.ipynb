{
 "cells": [
  {
   "cell_type": "markdown",
   "metadata": {},
   "source": [
    "# CIFAR 10 "
   ]
  },
  {
   "cell_type": "markdown",
   "metadata": {},
   "source": [
    "Here I will use the CIFAR 10 images to train different convolutional neural networks cocmparing the effects of batch normalization and drop out cells."
   ]
  },
  {
   "cell_type": "code",
   "execution_count": 79,
   "metadata": {},
   "outputs": [],
   "source": [
    "import pandas as pd\n",
    "import numpy as np"
   ]
  },
  {
   "cell_type": "markdown",
   "metadata": {},
   "source": [
    "Here I upload the necessary dataset and show an example sample"
   ]
  },
  {
   "cell_type": "code",
   "execution_count": 80,
   "metadata": {},
   "outputs": [],
   "source": [
    "from tensorflow.keras.datasets import cifar10\n",
    "\n",
    "(x_train, y_train), (x_test, y_test) = cifar10.load_data()"
   ]
  },
  {
   "cell_type": "code",
   "execution_count": 81,
   "metadata": {},
   "outputs": [],
   "source": [
    "import matplotlib.pyplot as plt"
   ]
  },
  {
   "cell_type": "code",
   "execution_count": 82,
   "metadata": {},
   "outputs": [
    {
     "data": {
      "text/plain": [
       "<matplotlib.image.AxesImage at 0x2b30bb8d048>"
      ]
     },
     "execution_count": 82,
     "metadata": {},
     "output_type": "execute_result"
    },
    {
     "data": {
      "image/png": "[encoded data removed]",
      "text/plain": [
       "<Figure size 432x288 with 1 Axes>"
      ]
     },
     "metadata": {
      "needs_background": "light"
     },
     "output_type": "display_data"
    }
   ],
   "source": [
    "plt.imshow(x_train[0])"
   ]
  },
  {
   "cell_type": "code",
   "execution_count": 83,
   "metadata": {},
   "outputs": [],
   "source": [
    "#Here I know the sizes of both the training and test data\n",
    "#have so I am abel to scale both down by 255\n",
    "x_train = x_train/225\n",
    "x_test = x_test/255"
   ]
  },
  {
   "cell_type": "code",
   "execution_count": 84,
   "metadata": {},
   "outputs": [],
   "source": [
    "from tensorflow.keras.utils import to_categorical"
   ]
  },
  {
   "cell_type": "code",
   "execution_count": 85,
   "metadata": {},
   "outputs": [],
   "source": [
    "#Here I categorize the output labels\n",
    "y_cat_train = to_categorical(y_train,10)\n",
    "y_cat_test = to_categorical(y_test,10)"
   ]
  },
  {
   "cell_type": "code",
   "execution_count": 86,
   "metadata": {},
   "outputs": [],
   "source": [
    "from tensorflow.keras.models import Sequential\n",
    "from tensorflow.keras.layers import Dense, Conv2D, MaxPool2D, Flatten"
   ]
  },
  {
   "cell_type": "code",
   "execution_count": 87,
   "metadata": {},
   "outputs": [
    {
     "data": {
      "text/plain": [
       "(50000, 32, 32, 3)"
      ]
     },
     "execution_count": 87,
     "metadata": {},
     "output_type": "execute_result"
    }
   ],
   "source": [
    "x_train.shape"
   ]
  },
  {
   "cell_type": "markdown",
   "metadata": {},
   "source": [
    "## No Dropout No Batch Normalization"
   ]
  },
  {
   "cell_type": "code",
   "execution_count": 88,
   "metadata": {},
   "outputs": [],
   "source": [
    "#Model with no dropouts nor batch normalization\n",
    "\n",
    "\n",
    "model = Sequential()\n",
    "\n",
    "model.add(Conv2D(filters=6, kernel_size=(5,5),input_shape=(32, 32, 3), \n",
    "                 activation='relu'\n",
    "                ,data_format='channels_last'))\n",
    "\n",
    "\n",
    "model.add(Conv2D(filters=16, kernel_size=(10,10),input_shape=(32, 32, 3), \n",
    "                 activation='relu',))\n",
    "\n",
    "#Here I add pooling layers to reduce the information making \n",
    "#the further computations easier\n",
    "model.add(MaxPool2D(pool_size=(2, 2)))\n",
    "\n",
    "# FLATTEN IMAGES FROM 28 by 28 to 764 BEFORE FINAL LAYER\n",
    "model.add(Flatten())\n",
    "\n",
    "\n",
    "model.add(Dense(120, activation='relu'))\n",
    "model.add(Dense(84, activation='relu'))\n",
    "\n",
    "\n",
    "model.add(Dense(10, activation='softmax'))\n",
    "\n",
    "\n",
    "model.compile(loss='categorical_crossentropy',\n",
    "              optimizer='adam',\n",
    "              metrics=['accuracy'])"
   ]
  },
  {
   "cell_type": "code",
   "execution_count": 89,
   "metadata": {},
   "outputs": [],
   "source": [
    "from tensorflow.keras.callbacks import EarlyStopping"
   ]
  },
  {
   "cell_type": "code",
   "execution_count": 90,
   "metadata": {},
   "outputs": [],
   "source": [
    "#Here I use an early stop as to avoid overfitting\n",
    "early_stop = EarlyStopping(monitor='val_loss',patience=3)"
   ]
  },
  {
   "cell_type": "code",
   "execution_count": 91,
   "metadata": {},
   "outputs": [
    {
     "name": "stdout",
     "output_type": "stream",
     "text": [
      "Train on 50000 samples, validate on 10000 samples\n",
      "Epoch 1/15\n",
      "50000/50000 [==============================] - 46s 916us/sample - loss: 1.6180 - accuracy: 0.4067 - val_loss: 1.5058 - val_accuracy: 0.4680\n",
      "Epoch 2/15\n",
      "50000/50000 [==============================] - 45s 903us/sample - loss: 1.3522 - accuracy: 0.5159 - val_loss: 1.2993 - val_accuracy: 0.5297\n",
      "Epoch 3/15\n",
      "50000/50000 [==============================] - 45s 908us/sample - loss: 1.2432 - accuracy: 0.5586 - val_loss: 1.3059 - val_accuracy: 0.5407\n",
      "Epoch 4/15\n",
      "50000/50000 [==============================] - 46s 911us/sample - loss: 1.1685 - accuracy: 0.5880 - val_loss: 1.2140 - val_accuracy: 0.5676\n",
      "Epoch 5/15\n",
      "50000/50000 [==============================] - 46s 921us/sample - loss: 1.1074 - accuracy: 0.6085 - val_loss: 1.2377 - val_accuracy: 0.5591\n",
      "Epoch 6/15\n",
      "50000/50000 [==============================] - 45s 907us/sample - loss: 1.0473 - accuracy: 0.6301 - val_loss: 1.2136 - val_accuracy: 0.5695\n",
      "Epoch 7/15\n",
      "50000/50000 [==============================] - 45s 907us/sample - loss: 1.0006 - accuracy: 0.6481 - val_loss: 1.1718 - val_accuracy: 0.5884\n",
      "Epoch 8/15\n",
      "50000/50000 [==============================] - 45s 907us/sample - loss: 0.9504 - accuracy: 0.6646 - val_loss: 1.1890 - val_accuracy: 0.5828\n",
      "Epoch 9/15\n",
      "50000/50000 [==============================] - 46s 912us/sample - loss: 0.9032 - accuracy: 0.6809 - val_loss: 1.1927 - val_accuracy: 0.5889\n",
      "Epoch 10/15\n",
      "50000/50000 [==============================] - 45s 908us/sample - loss: 0.8611 - accuracy: 0.6991 - val_loss: 1.2174 - val_accuracy: 0.5941\n"
     ]
    },
    {
     "data": {
      "text/plain": [
       "<tensorflow.python.keras.callbacks.History at 0x2b3210cef88>"
      ]
     },
     "execution_count": 91,
     "metadata": {},
     "output_type": "execute_result"
    }
   ],
   "source": [
    "model.fit(x_train,y_cat_train,epochs=15,validation_data=(x_test,y_cat_test),\n",
    "          callbacks=[early_stop])"
   ]
  },
  {
   "cell_type": "markdown",
   "metadata": {},
   "source": [
    "Without any noralization nor drop outs my model had an accuracy score of 70% on the training data and 59% on the validation or testing data. This took a total of 7 minutes and 34 seconds."
   ]
  },
  {
   "cell_type": "code",
   "execution_count": 92,
   "metadata": {},
   "outputs": [],
   "source": [
    "from tensorflow.keras.layers import Dropout"
   ]
  },
  {
   "cell_type": "markdown",
   "metadata": {},
   "source": [
    "## One Dropout no Batch Normalization"
   ]
  },
  {
   "cell_type": "code",
   "execution_count": 93,
   "metadata": {},
   "outputs": [],
   "source": [
    "#Model with one dropout and no batch normalization\n",
    "\n",
    "\n",
    "model = Sequential()\n",
    "\n",
    "\n",
    "model.add(Conv2D(filters=6, kernel_size=(5,5),input_shape=(32, 32, 3), \n",
    "                 activation='relu'\n",
    "                ,data_format='channels_last'))\n",
    "\n",
    "\n",
    "#Drop out layer\n",
    "model.add(Dropout(0.5))\n",
    "\n",
    "\n",
    "model.add(Conv2D(filters=16, kernel_size=(10,10),input_shape=(32, 32, 3), \n",
    "                 activation='relu',))\n",
    "\n",
    "\n",
    "model.add(MaxPool2D(pool_size=(2, 2)))\n",
    "\n",
    "\n",
    "model.add(Flatten())\n",
    "\n",
    "\n",
    "model.add(Dense(120, activation='relu'))\n",
    "model.add(Dense(84, activation='relu'))\n",
    "\n",
    "\n",
    "model.add(Dense(10, activation='softmax'))\n",
    "\n",
    "\n",
    "model.compile(loss='categorical_crossentropy',\n",
    "              optimizer='adam',\n",
    "              metrics=['accuracy'])"
   ]
  },
  {
   "cell_type": "code",
   "execution_count": 94,
   "metadata": {},
   "outputs": [
    {
     "name": "stdout",
     "output_type": "stream",
     "text": [
      "Train on 50000 samples, validate on 10000 samples\n",
      "Epoch 1/20\n",
      "50000/50000 [==============================] - 47s 933us/sample - loss: 1.6767 - accuracy: 0.3871 - val_loss: 1.5170 - val_accuracy: 0.4522\n",
      "Epoch 2/20\n",
      "50000/50000 [==============================] - 47s 932us/sample - loss: 1.4127 - accuracy: 0.4920 - val_loss: 1.4225 - val_accuracy: 0.4922\n",
      "Epoch 3/20\n",
      "50000/50000 [==============================] - 50s 1ms/sample - loss: 1.3149 - accuracy: 0.5298 - val_loss: 1.3367 - val_accuracy: 0.5249\n",
      "Epoch 4/20\n",
      "50000/50000 [==============================] - 51s 1ms/sample - loss: 1.2539 - accuracy: 0.5517 - val_loss: 1.3277 - val_accuracy: 0.5171\n",
      "Epoch 5/20\n",
      "50000/50000 [==============================] - 50s 998us/sample - loss: 1.2003 - accuracy: 0.5729 - val_loss: 1.2566 - val_accuracy: 0.5603\n",
      "Epoch 6/20\n",
      "50000/50000 [==============================] - 49s 973us/sample - loss: 1.1633 - accuracy: 0.5874 - val_loss: 1.3896 - val_accuracy: 0.5280\n",
      "Epoch 7/20\n",
      "50000/50000 [==============================] - 50s 992us/sample - loss: 1.1214 - accuracy: 0.6018 - val_loss: 1.2478 - val_accuracy: 0.5640\n",
      "Epoch 8/20\n",
      "50000/50000 [==============================] - 51s 1ms/sample - loss: 1.0909 - accuracy: 0.6117 - val_loss: 1.2392 - val_accuracy: 0.5645\n",
      "Epoch 9/20\n",
      "50000/50000 [==============================] - 49s 989us/sample - loss: 1.0605 - accuracy: 0.6238 - val_loss: 1.2024 - val_accuracy: 0.5717\n",
      "Epoch 10/20\n",
      "50000/50000 [==============================] - 49s 980us/sample - loss: 1.0388 - accuracy: 0.6293 - val_loss: 1.1935 - val_accuracy: 0.5781\n",
      "Epoch 11/20\n",
      "50000/50000 [==============================] - 50s 996us/sample - loss: 1.0243 - accuracy: 0.6359 - val_loss: 1.1891 - val_accuracy: 0.5798\n",
      "Epoch 12/20\n",
      "50000/50000 [==============================] - 50s 996us/sample - loss: 0.9968 - accuracy: 0.6446 - val_loss: 1.1952 - val_accuracy: 0.5816\n",
      "Epoch 13/20\n",
      "50000/50000 [==============================] - 49s 989us/sample - loss: 0.9785 - accuracy: 0.6530 - val_loss: 1.2440 - val_accuracy: 0.5648\n",
      "Epoch 14/20\n",
      "50000/50000 [==============================] - 50s 1ms/sample - loss: 0.9671 - accuracy: 0.6561 - val_loss: 1.1856 - val_accuracy: 0.5940\n",
      "Epoch 15/20\n",
      "50000/50000 [==============================] - 51s 1ms/sample - loss: 0.9418 - accuracy: 0.6652 - val_loss: 1.2351 - val_accuracy: 0.5747\n",
      "Epoch 16/20\n",
      "50000/50000 [==============================] - 50s 991us/sample - loss: 0.9372 - accuracy: 0.6673 - val_loss: 1.2212 - val_accuracy: 0.5831\n",
      "Epoch 17/20\n",
      "50000/50000 [==============================] - 51s 1ms/sample - loss: 0.9236 - accuracy: 0.6730 - val_loss: 1.2478 - val_accuracy: 0.5748\n"
     ]
    },
    {
     "data": {
      "text/plain": [
       "<tensorflow.python.keras.callbacks.History at 0x2b323a49c48>"
      ]
     },
     "execution_count": 94,
     "metadata": {},
     "output_type": "execute_result"
    }
   ],
   "source": [
    "model.fit(x_train,y_cat_train,epochs=20,validation_data=(x_test,y_cat_test),\n",
    "          callbacks=[early_stop])"
   ]
  },
  {
   "cell_type": "markdown",
   "metadata": {},
   "source": [
    "With the one drop out layer the accuracy on the training data was 67% and on the test/validation data it increased to 57% and took 14 minutes and 5 seconds."
   ]
  },
  {
   "cell_type": "markdown",
   "metadata": {},
   "source": [
    "## One Dropout One Batch Normalizer"
   ]
  },
  {
   "cell_type": "code",
   "execution_count": 100,
   "metadata": {},
   "outputs": [],
   "source": [
    "#Model with one dropout and one batch normalizer\n",
    "from tensorflow.keras.layers import BatchNormalization\n",
    "\n",
    "model = Sequential()\n",
    "\n",
    "\n",
    "\n",
    "model.add(Conv2D(filters=6, kernel_size=(5,5),input_shape=(32, 32, 3), \n",
    "                 activation='relu'))\n",
    "\n",
    "\n",
    "\n",
    "model.add(Dropout(0.5))\n",
    "#Batch normalizer\n",
    "model.add(BatchNormalization(axis=-1))\n",
    "model.add(Conv2D(filters=16, kernel_size=(10,10),input_shape=(32, 32, 3), \n",
    "                 activation='relu',))\n",
    "\n",
    "\n",
    "model.add(MaxPool2D(pool_size=(2, 2)))\n",
    "\n",
    "\n",
    "model.add(Flatten())\n",
    "\n",
    "\n",
    "model.add(Dense(500, activation='relu'))\n",
    "\n",
    "\n",
    "model.add(Dense(10, activation='softmax'))\n",
    "\n",
    "\n",
    "model.compile(loss='categorical_crossentropy',\n",
    "              optimizer='adam',\n",
    "              metrics=['accuracy'])"
   ]
  },
  {
   "cell_type": "code",
   "execution_count": 101,
   "metadata": {},
   "outputs": [
    {
     "name": "stdout",
     "output_type": "stream",
     "text": [
      "Train on 50000 samples, validate on 10000 samples\n",
      "Epoch 1/20\n",
      "50000/50000 [==============================] - 62s 1ms/sample - loss: 1.6184 - accuracy: 0.4174 - val_loss: 1.5390 - val_accuracy: 0.4459\n",
      "Epoch 2/20\n",
      "50000/50000 [==============================] - 63s 1ms/sample - loss: 1.3572 - accuracy: 0.5140 - val_loss: 1.3337 - val_accuracy: 0.5190\n",
      "Epoch 3/20\n",
      "50000/50000 [==============================] - 62s 1ms/sample - loss: 1.2484 - accuracy: 0.5551 - val_loss: 1.2280 - val_accuracy: 0.5644\n",
      "Epoch 4/20\n",
      "50000/50000 [==============================] - 62s 1ms/sample - loss: 1.1848 - accuracy: 0.5791 - val_loss: 1.4618 - val_accuracy: 0.4845\n",
      "Epoch 5/20\n",
      "50000/50000 [==============================] - 63s 1ms/sample - loss: 1.1260 - accuracy: 0.6006 - val_loss: 1.2824 - val_accuracy: 0.5486\n",
      "Epoch 6/20\n",
      "50000/50000 [==============================] - 63s 1ms/sample - loss: 1.0803 - accuracy: 0.6181 - val_loss: 1.3488 - val_accuracy: 0.5315\n"
     ]
    },
    {
     "data": {
      "text/plain": [
       "<tensorflow.python.keras.callbacks.History at 0x2b3d792dc48>"
      ]
     },
     "execution_count": 101,
     "metadata": {},
     "output_type": "execute_result"
    }
   ],
   "source": [
    "model.fit(x_train,y_cat_train,epochs=20,validation_data=(x_test,y_cat_test),\n",
    "          callbacks=[early_stop])"
   ]
  },
  {
   "cell_type": "markdown",
   "metadata": {},
   "source": [
    "With the one drop out layer and the batch normalizer placed before the second layer the accuracy on the training data was 62% and on the test/validation data it increased to 53% and took 6 minutes and 15 seconds."
   ]
  },
  {
   "cell_type": "markdown",
   "metadata": {},
   "source": [
    "## Comparison"
   ]
  },
  {
   "cell_type": "markdown",
   "metadata": {},
   "source": [
    "Interestingly the first model performed the best with an accuracy score on the test/validation data of 59% taking about 7 and a half minutes."
   ]
  },
  {
   "cell_type": "code",
   "execution_count": null,
   "metadata": {},
   "outputs": [],
   "source": []
  }
 ],
 "metadata": {
  "kernelspec": {
   "display_name": "Python 3",
   "language": "python",
   "name": "python3"
  },
  "language_info": {
   "codemirror_mode": {
    "name": "ipython",
    "version": 3
   },
   "file_extension": ".py",
   "mimetype": "text/x-python",
   "name": "python",
   "nbconvert_exporter": "python",
   "pygments_lexer": "ipython3",
   "version": "3.7.4"
  }
 },
 "nbformat": 4,
 "nbformat_minor": 2
}
